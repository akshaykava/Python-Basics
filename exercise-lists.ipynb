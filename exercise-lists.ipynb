{
 "cells": [
  {
   "cell_type": "markdown",
   "id": "34320250",
   "metadata": {
    "papermill": {
     "duration": 0.015764,
     "end_time": "2021-07-14T13:30:28.027940",
     "exception": false,
     "start_time": "2021-07-14T13:30:28.012176",
     "status": "completed"
    },
    "tags": []
   },
   "source": [
    "**This notebook is an exercise in the [Python](https://www.kaggle.com/learn/python) course.  You can reference the tutorial at [this link](https://www.kaggle.com/colinmorris/lists).**\n",
    "\n",
    "---\n"
   ]
  },
  {
   "cell_type": "markdown",
   "id": "0ae06034",
   "metadata": {
    "papermill": {
     "duration": 0.014391,
     "end_time": "2021-07-14T13:30:28.058903",
     "exception": false,
     "start_time": "2021-07-14T13:30:28.044512",
     "status": "completed"
    },
    "tags": []
   },
   "source": [
    "# Try It Yourself\n",
    "\n",
    "Things get more interesting with lists. See if you can solve the questions below. Remember to run the following cell first."
   ]
  },
  {
   "cell_type": "code",
   "execution_count": 1,
   "id": "6370c42b",
   "metadata": {
    "execution": {
     "iopub.execute_input": "2021-07-14T13:30:28.100762Z",
     "iopub.status.busy": "2021-07-14T13:30:28.100206Z",
     "iopub.status.idle": "2021-07-14T13:30:28.217697Z",
     "shell.execute_reply": "2021-07-14T13:30:28.217031Z",
     "shell.execute_reply.started": "2021-07-14T13:29:45.180429Z"
    },
    "papermill": {
     "duration": 0.143922,
     "end_time": "2021-07-14T13:30:28.217858",
     "exception": false,
     "start_time": "2021-07-14T13:30:28.073936",
     "status": "completed"
    },
    "tags": []
   },
   "outputs": [
    {
     "name": "stdout",
     "output_type": "stream",
     "text": [
      "Setup complete.\n"
     ]
    }
   ],
   "source": [
    "from learntools.core import binder; binder.bind(globals())\n",
    "from learntools.python.ex4 import *\n",
    "print('Setup complete.')"
   ]
  },
  {
   "cell_type": "markdown",
   "id": "e2f68681",
   "metadata": {
    "papermill": {
     "duration": 0.014051,
     "end_time": "2021-07-14T13:30:28.246845",
     "exception": false,
     "start_time": "2021-07-14T13:30:28.232794",
     "status": "completed"
    },
    "tags": []
   },
   "source": [
    "# Exercises"
   ]
  },
  {
   "cell_type": "markdown",
   "id": "17156b02",
   "metadata": {
    "papermill": {
     "duration": 0.013919,
     "end_time": "2021-07-14T13:30:28.274718",
     "exception": false,
     "start_time": "2021-07-14T13:30:28.260799",
     "status": "completed"
    },
    "tags": []
   },
   "source": [
    "## 1.\n",
    "\n",
    "Complete the function below according to its docstring."
   ]
  },
  {
   "cell_type": "code",
   "execution_count": 2,
   "id": "b2fec789",
   "metadata": {
    "execution": {
     "iopub.execute_input": "2021-07-14T13:30:28.310288Z",
     "iopub.status.busy": "2021-07-14T13:30:28.309420Z",
     "iopub.status.idle": "2021-07-14T13:30:28.314893Z",
     "shell.execute_reply": "2021-07-14T13:30:28.314323Z",
     "shell.execute_reply.started": "2021-07-14T13:29:49.053664Z"
    },
    "papermill": {
     "duration": 0.026616,
     "end_time": "2021-07-14T13:30:28.315015",
     "exception": false,
     "start_time": "2021-07-14T13:30:28.288399",
     "status": "completed"
    },
    "tags": []
   },
   "outputs": [
    {
     "data": {
      "application/javascript": [
       "parent.postMessage({\"jupyterEvent\": \"custom.exercise_interaction\", \"data\": {\"outcomeType\": 1, \"valueTowardsCompletion\": 0.2, \"interactionType\": 1, \"questionType\": 2, \"questionId\": \"1_SelectSecondItem\", \"learnToolsVersion\": \"0.3.4\", \"failureMessage\": \"\", \"exceptionClass\": \"\", \"trace\": \"\"}}, \"*\")"
      ],
      "text/plain": [
       "<IPython.core.display.Javascript object>"
      ]
     },
     "metadata": {},
     "output_type": "display_data"
    },
    {
     "data": {
      "text/markdown": [
       "<span style=\"color:#33cc33\">Correct</span>"
      ],
      "text/plain": [
       "Correct"
      ]
     },
     "metadata": {},
     "output_type": "display_data"
    }
   ],
   "source": [
    "def select_second(L):\n",
    "    \"\"\"Return the second element of the given list. If the list has no second\n",
    "    element, return None.\n",
    "    \"\"\"\n",
    "    if len(L)<2:\n",
    "        return None\n",
    "    \n",
    "    return L[1]\n",
    "   \n",
    "    # Check your answer\n",
    "q1.check()"
   ]
  },
  {
   "cell_type": "code",
   "execution_count": 3,
   "id": "f0202442",
   "metadata": {
    "execution": {
     "iopub.execute_input": "2021-07-14T13:30:28.347562Z",
     "iopub.status.busy": "2021-07-14T13:30:28.347064Z",
     "iopub.status.idle": "2021-07-14T13:30:28.349858Z",
     "shell.execute_reply": "2021-07-14T13:30:28.349367Z",
     "shell.execute_reply.started": "2021-07-14T13:29:49.605629Z"
    },
    "papermill": {
     "duration": 0.019936,
     "end_time": "2021-07-14T13:30:28.349980",
     "exception": false,
     "start_time": "2021-07-14T13:30:28.330044",
     "status": "completed"
    },
    "tags": []
   },
   "outputs": [],
   "source": [
    "#q1.hint()\n",
    "#q1.solution()"
   ]
  },
  {
   "cell_type": "markdown",
   "id": "ac0bcd22",
   "metadata": {
    "papermill": {
     "duration": 0.014853,
     "end_time": "2021-07-14T13:30:28.379605",
     "exception": false,
     "start_time": "2021-07-14T13:30:28.364752",
     "status": "completed"
    },
    "tags": []
   },
   "source": [
    "## 2.\n",
    "\n",
    "You are analyzing sports teams.  Members of each team are stored in a list. The Coach is the first name in the list, the captain is the second name in the list, and other players are listed after that. \n",
    "These lists are stored in another list, which starts with the best team and proceeds through the list to the worst team last.  Complete the function below to select the **captain** of the worst team."
   ]
  },
  {
   "cell_type": "code",
   "execution_count": 4,
   "id": "1ff2742b",
   "metadata": {
    "execution": {
     "iopub.execute_input": "2021-07-14T13:30:28.415280Z",
     "iopub.status.busy": "2021-07-14T13:30:28.414725Z",
     "iopub.status.idle": "2021-07-14T13:30:28.419634Z",
     "shell.execute_reply": "2021-07-14T13:30:28.420027Z",
     "shell.execute_reply.started": "2021-07-14T13:29:50.837720Z"
    },
    "papermill": {
     "duration": 0.025152,
     "end_time": "2021-07-14T13:30:28.420165",
     "exception": false,
     "start_time": "2021-07-14T13:30:28.395013",
     "status": "completed"
    },
    "tags": []
   },
   "outputs": [
    {
     "data": {
      "application/javascript": [
       "parent.postMessage({\"jupyterEvent\": \"custom.exercise_interaction\", \"data\": {\"outcomeType\": 1, \"valueTowardsCompletion\": 0.2, \"interactionType\": 1, \"questionType\": 2, \"questionId\": \"2_LosingTeamCaptain\", \"learnToolsVersion\": \"0.3.4\", \"failureMessage\": \"\", \"exceptionClass\": \"\", \"trace\": \"\"}}, \"*\")"
      ],
      "text/plain": [
       "<IPython.core.display.Javascript object>"
      ]
     },
     "metadata": {},
     "output_type": "display_data"
    },
    {
     "data": {
      "text/markdown": [
       "<span style=\"color:#33cc33\">Correct</span>"
      ],
      "text/plain": [
       "Correct"
      ]
     },
     "metadata": {},
     "output_type": "display_data"
    }
   ],
   "source": [
    "def losing_team_captain(teams):\n",
    "    \"\"\"Given a list of teams, where each team is a list of names, return the 2nd player (captain)\n",
    "    from the last listed team\n",
    "    \"\"\"\n",
    "    return teams[-1][1]\n",
    "\n",
    "# Check your answer\n",
    "q2.check()"
   ]
  },
  {
   "cell_type": "code",
   "execution_count": 5,
   "id": "20cd7f3c",
   "metadata": {
    "execution": {
     "iopub.execute_input": "2021-07-14T13:30:28.457887Z",
     "iopub.status.busy": "2021-07-14T13:30:28.457316Z",
     "iopub.status.idle": "2021-07-14T13:30:28.462960Z",
     "shell.execute_reply": "2021-07-14T13:30:28.462482Z",
     "shell.execute_reply.started": "2021-07-14T13:29:51.334997Z"
    },
    "papermill": {
     "duration": 0.026392,
     "end_time": "2021-07-14T13:30:28.463090",
     "exception": false,
     "start_time": "2021-07-14T13:30:28.436698",
     "status": "completed"
    },
    "tags": []
   },
   "outputs": [
    {
     "data": {
      "application/javascript": [
       "parent.postMessage({\"jupyterEvent\": \"custom.exercise_interaction\", \"data\": {\"interactionType\": 2, \"questionType\": 2, \"questionId\": \"2_LosingTeamCaptain\", \"learnToolsVersion\": \"0.3.4\", \"valueTowardsCompletion\": 0.0, \"failureMessage\": \"\", \"exceptionClass\": \"\", \"trace\": \"\", \"outcomeType\": 4}}, \"*\")"
      ],
      "text/plain": [
       "<IPython.core.display.Javascript object>"
      ]
     },
     "metadata": {},
     "output_type": "display_data"
    },
    {
     "data": {
      "text/markdown": [
       "<span style=\"color:#3366cc\">Hint:</span> The last item in a list `L` can be selected with `L[-1]`. The first item in the first sublist would be selected as `L[0][0]`"
      ],
      "text/plain": [
       "Hint: The last item in a list `L` can be selected with `L[-1]`. The first item in the first sublist would be selected as `L[0][0]`"
      ]
     },
     "metadata": {},
     "output_type": "display_data"
    }
   ],
   "source": [
    "q2.hint()\n",
    "#q2.solution()"
   ]
  },
  {
   "cell_type": "markdown",
   "id": "d459e022",
   "metadata": {
    "papermill": {
     "duration": 0.016816,
     "end_time": "2021-07-14T13:30:28.496858",
     "exception": false,
     "start_time": "2021-07-14T13:30:28.480042",
     "status": "completed"
    },
    "tags": []
   },
   "source": [
    "## 3.\n",
    "\n",
    "The next iteration of Mario Kart will feature an extra-infuriating new item, the *Purple Shell*. When used, it warps the last place racer into first place and the first place racer into last place. Complete the function below to implement the Purple Shell's effect."
   ]
  },
  {
   "cell_type": "code",
   "execution_count": 6,
   "id": "8a6f7d3a",
   "metadata": {
    "execution": {
     "iopub.execute_input": "2021-07-14T13:30:28.535042Z",
     "iopub.status.busy": "2021-07-14T13:30:28.534511Z",
     "iopub.status.idle": "2021-07-14T13:30:28.541397Z",
     "shell.execute_reply": "2021-07-14T13:30:28.540985Z",
     "shell.execute_reply.started": "2021-07-14T13:29:52.294923Z"
    },
    "papermill": {
     "duration": 0.028068,
     "end_time": "2021-07-14T13:30:28.541504",
     "exception": false,
     "start_time": "2021-07-14T13:30:28.513436",
     "status": "completed"
    },
    "tags": []
   },
   "outputs": [
    {
     "data": {
      "application/javascript": [
       "parent.postMessage({\"jupyterEvent\": \"custom.exercise_interaction\", \"data\": {\"outcomeType\": 1, \"valueTowardsCompletion\": 0.2, \"interactionType\": 1, \"questionType\": 2, \"questionId\": \"3_PurpleShell\", \"learnToolsVersion\": \"0.3.4\", \"failureMessage\": \"\", \"exceptionClass\": \"\", \"trace\": \"\"}}, \"*\")"
      ],
      "text/plain": [
       "<IPython.core.display.Javascript object>"
      ]
     },
     "metadata": {},
     "output_type": "display_data"
    },
    {
     "data": {
      "text/markdown": [
       "<span style=\"color:#33cc33\">Correct</span>"
      ],
      "text/plain": [
       "Correct"
      ]
     },
     "metadata": {},
     "output_type": "display_data"
    }
   ],
   "source": [
    "def purple_shell(racers):\n",
    "    \"\"\"Given a list of racers, set the first place racer (at the front of the list) to last\n",
    "    place and vice versa.\n",
    "    \n",
    "    >>> r = [\"Mario\", \"Bowser\", \"Luigi\"]\n",
    "    >>> purple_shell(r)\n",
    "    >>> r\n",
    "    [\"Luigi\", \"Bowser\", \"Mario\"]\n",
    "    \"\"\"\n",
    "    racers[0],racers[-1]=racers[-1],racers[0]\n",
    "\n",
    "# Check your answer\n",
    "q3.check()"
   ]
  },
  {
   "cell_type": "code",
   "execution_count": 7,
   "id": "c30959e1",
   "metadata": {
    "execution": {
     "iopub.execute_input": "2021-07-14T13:30:28.581539Z",
     "iopub.status.busy": "2021-07-14T13:30:28.580503Z",
     "iopub.status.idle": "2021-07-14T13:30:28.584956Z",
     "shell.execute_reply": "2021-07-14T13:30:28.585425Z",
     "shell.execute_reply.started": "2021-07-14T13:29:52.905729Z"
    },
    "papermill": {
     "duration": 0.026703,
     "end_time": "2021-07-14T13:30:28.585583",
     "exception": false,
     "start_time": "2021-07-14T13:30:28.558880",
     "status": "completed"
    },
    "tags": []
   },
   "outputs": [
    {
     "data": {
      "application/javascript": [
       "parent.postMessage({\"jupyterEvent\": \"custom.exercise_interaction\", \"data\": {\"interactionType\": 2, \"questionType\": 2, \"questionId\": \"3_PurpleShell\", \"learnToolsVersion\": \"0.3.4\", \"valueTowardsCompletion\": 0.0, \"failureMessage\": \"\", \"exceptionClass\": \"\", \"trace\": \"\", \"outcomeType\": 4}}, \"*\")"
      ],
      "text/plain": [
       "<IPython.core.display.Javascript object>"
      ]
     },
     "metadata": {},
     "output_type": "display_data"
    },
    {
     "data": {
      "text/markdown": [
       "<span style=\"color:#3366cc\">Hint:</span> Your function should change the list it receives, but not return anything\n",
       "\n",
       "To swap the list elements, think back to the code you used in the very first exercise to swap two variables."
      ],
      "text/plain": [
       "Hint: Your function should change the list it receives, but not return anything\n",
       "\n",
       "To swap the list elements, think back to the code you used in the very first exercise to swap two variables."
      ]
     },
     "metadata": {},
     "output_type": "display_data"
    }
   ],
   "source": [
    "q3.hint()\n",
    "#q3.solution()"
   ]
  },
  {
   "cell_type": "markdown",
   "id": "315131ef",
   "metadata": {
    "papermill": {
     "duration": 0.017831,
     "end_time": "2021-07-14T13:30:28.621657",
     "exception": false,
     "start_time": "2021-07-14T13:30:28.603826",
     "status": "completed"
    },
    "tags": []
   },
   "source": [
    "## 4.\n",
    "\n",
    "What are the lengths of the following lists? Fill in the variable `lengths` with your predictions. (Try to make a prediction for each list *without* just calling `len()` on it.)"
   ]
  },
  {
   "cell_type": "code",
   "execution_count": 8,
   "id": "58e79d76",
   "metadata": {
    "execution": {
     "iopub.execute_input": "2021-07-14T13:30:28.664063Z",
     "iopub.status.busy": "2021-07-14T13:30:28.663448Z",
     "iopub.status.idle": "2021-07-14T13:30:28.668405Z",
     "shell.execute_reply": "2021-07-14T13:30:28.668865Z",
     "shell.execute_reply.started": "2021-07-14T13:29:54.020613Z"
    },
    "papermill": {
     "duration": 0.029292,
     "end_time": "2021-07-14T13:30:28.669009",
     "exception": false,
     "start_time": "2021-07-14T13:30:28.639717",
     "status": "completed"
    },
    "tags": []
   },
   "outputs": [
    {
     "data": {
      "application/javascript": [
       "parent.postMessage({\"jupyterEvent\": \"custom.exercise_interaction\", \"data\": {\"outcomeType\": 1, \"valueTowardsCompletion\": 0.2, \"interactionType\": 1, \"questionType\": 1, \"questionId\": \"4_UnderstandLen\", \"learnToolsVersion\": \"0.3.4\", \"failureMessage\": \"\", \"exceptionClass\": \"\", \"trace\": \"\"}}, \"*\")"
      ],
      "text/plain": [
       "<IPython.core.display.Javascript object>"
      ]
     },
     "metadata": {},
     "output_type": "display_data"
    },
    {
     "data": {
      "text/markdown": [
       "<span style=\"color:#33cc33\">Correct:</span> \n",
       "\n",
       "\n",
       "- a: There are three items in this list. Nothing tricky yet.\n",
       "- b: The list `[2, 3]` counts as a single item. It has one item before it. So we have 2 items in the list\n",
       "- c: The empty list has 0 items\n",
       "- d: The expression is the same as the list `[2, 3]`, which has length 2."
      ],
      "text/plain": [
       "Correct: \n",
       "\n",
       "\n",
       "- a: There are three items in this list. Nothing tricky yet.\n",
       "- b: The list `[2, 3]` counts as a single item. It has one item before it. So we have 2 items in the list\n",
       "- c: The empty list has 0 items\n",
       "- d: The expression is the same as the list `[2, 3]`, which has length 2."
      ]
     },
     "metadata": {},
     "output_type": "display_data"
    }
   ],
   "source": [
    "a = [1, 2, 3]\n",
    "b = [1, [2, 3]]\n",
    "c = []\n",
    "d = [1, 2, 3][1:]\n",
    "\n",
    "# Put your predictions in the list below. Lengths should contain 4 numbers, the\n",
    "# first being the length of a, the second being the length of b and so on.\n",
    "lengths = [3,2,0,2]\n",
    "\n",
    "# Check your answer\n",
    "q4.check()"
   ]
  },
  {
   "cell_type": "code",
   "execution_count": 9,
   "id": "9d1cea51",
   "metadata": {
    "execution": {
     "iopub.execute_input": "2021-07-14T13:30:28.711112Z",
     "iopub.status.busy": "2021-07-14T13:30:28.710598Z",
     "iopub.status.idle": "2021-07-14T13:30:28.714404Z",
     "shell.execute_reply": "2021-07-14T13:30:28.713967Z",
     "shell.execute_reply.started": "2021-07-14T13:29:54.697530Z"
    },
    "papermill": {
     "duration": 0.025922,
     "end_time": "2021-07-14T13:30:28.714518",
     "exception": false,
     "start_time": "2021-07-14T13:30:28.688596",
     "status": "completed"
    },
    "tags": []
   },
   "outputs": [],
   "source": [
    "# line below provides some explanation\n",
    "#q4.solution()"
   ]
  },
  {
   "cell_type": "markdown",
   "id": "2aa20cd6",
   "metadata": {
    "papermill": {
     "duration": 0.019169,
     "end_time": "2021-07-14T13:30:28.752794",
     "exception": false,
     "start_time": "2021-07-14T13:30:28.733625",
     "status": "completed"
    },
    "tags": []
   },
   "source": [
    "## 5. <span title=\"A bit spicy\" style=\"color: darkgreen \">🌶️</span>\n",
    "\n",
    "We're using lists to record people who attended our party and what order they arrived in. For example, the following list represents a party with 7 guests, in which Adela showed up first and Ford was the last to arrive:\n",
    "\n",
    "    party_attendees = ['Adela', 'Fleda', 'Owen', 'May', 'Mona', 'Gilbert', 'Ford']\n",
    "\n",
    "A guest is considered 'fashionably late' if they arrived after at least half of the party's guests. However, they must not be the very last guest (that's taking it too far). In the above example, Mona and Gilbert are the only guests who were fashionably late.\n",
    "\n",
    "Complete the function below which takes a list of party attendees as well as a person, and tells us whether that person is fashionably late."
   ]
  },
  {
   "cell_type": "code",
   "execution_count": 10,
   "id": "98a3c7f4",
   "metadata": {
    "execution": {
     "iopub.execute_input": "2021-07-14T13:30:28.798314Z",
     "iopub.status.busy": "2021-07-14T13:30:28.797250Z",
     "iopub.status.idle": "2021-07-14T13:30:28.801784Z",
     "shell.execute_reply": "2021-07-14T13:30:28.802240Z",
     "shell.execute_reply.started": "2021-07-14T13:29:55.938123Z"
    },
    "papermill": {
     "duration": 0.030077,
     "end_time": "2021-07-14T13:30:28.802368",
     "exception": false,
     "start_time": "2021-07-14T13:30:28.772291",
     "status": "completed"
    },
    "tags": []
   },
   "outputs": [
    {
     "data": {
      "application/javascript": [
       "parent.postMessage({\"jupyterEvent\": \"custom.exercise_interaction\", \"data\": {\"outcomeType\": 1, \"valueTowardsCompletion\": 0.2, \"interactionType\": 1, \"questionType\": 2, \"questionId\": \"5_FashionablyLate\", \"learnToolsVersion\": \"0.3.4\", \"failureMessage\": \"\", \"exceptionClass\": \"\", \"trace\": \"\"}}, \"*\")"
      ],
      "text/plain": [
       "<IPython.core.display.Javascript object>"
      ]
     },
     "metadata": {},
     "output_type": "display_data"
    },
    {
     "data": {
      "text/markdown": [
       "<span style=\"color:#33cc33\">Correct</span>"
      ],
      "text/plain": [
       "Correct"
      ]
     },
     "metadata": {},
     "output_type": "display_data"
    }
   ],
   "source": [
    "def fashionably_late(arrivals, name):\n",
    "    \"\"\"Given an ordered list of arrivals to the party and a name, return whether the guest with that\n",
    "    name was fashionably late.\n",
    "    \"\"\"\n",
    "    order = arrivals.index(name)\n",
    "    return order >= len(arrivals) / 2 and order != len(arrivals) - 1\n",
    "\n",
    "# Check your answer\n",
    "q5.check()"
   ]
  },
  {
   "cell_type": "code",
   "execution_count": 11,
   "id": "c35692ef",
   "metadata": {
    "execution": {
     "iopub.execute_input": "2021-07-14T13:30:28.848126Z",
     "iopub.status.busy": "2021-07-14T13:30:28.847605Z",
     "iopub.status.idle": "2021-07-14T13:30:28.853982Z",
     "shell.execute_reply": "2021-07-14T13:30:28.853514Z",
     "shell.execute_reply.started": "2021-07-14T13:29:56.760240Z"
    },
    "papermill": {
     "duration": 0.030878,
     "end_time": "2021-07-14T13:30:28.854105",
     "exception": false,
     "start_time": "2021-07-14T13:30:28.823227",
     "status": "completed"
    },
    "tags": []
   },
   "outputs": [
    {
     "data": {
      "application/javascript": [
       "parent.postMessage({\"jupyterEvent\": \"custom.exercise_interaction\", \"data\": {\"interactionType\": 3, \"questionType\": 2, \"questionId\": \"5_FashionablyLate\", \"learnToolsVersion\": \"0.3.4\", \"valueTowardsCompletion\": 0.0, \"failureMessage\": \"\", \"exceptionClass\": \"\", \"trace\": \"\", \"outcomeType\": 4}}, \"*\")"
      ],
      "text/plain": [
       "<IPython.core.display.Javascript object>"
      ]
     },
     "metadata": {},
     "output_type": "display_data"
    },
    {
     "data": {
      "text/markdown": [
       "<span style=\"color:#33cc99\">Solution:</span> \n",
       "```python\n",
       "def fashionably_late(arrivals, name):\n",
       "    order = arrivals.index(name)\n",
       "    return order >= len(arrivals) / 2 and order != len(arrivals) - 1\n",
       "```"
      ],
      "text/plain": [
       "Solution: \n",
       "```python\n",
       "def fashionably_late(arrivals, name):\n",
       "    order = arrivals.index(name)\n",
       "    return order >= len(arrivals) / 2 and order != len(arrivals) - 1\n",
       "```"
      ]
     },
     "metadata": {},
     "output_type": "display_data"
    }
   ],
   "source": [
    "#q5.hint()\n",
    "q5.solution()"
   ]
  },
  {
   "cell_type": "markdown",
   "id": "98adffe4",
   "metadata": {
    "papermill": {
     "duration": 0.021617,
     "end_time": "2021-07-14T13:30:28.897704",
     "exception": false,
     "start_time": "2021-07-14T13:30:28.876087",
     "status": "completed"
    },
    "tags": []
   },
   "source": [
    "# Keep Going\n",
    "\n",
    "That's it for lists and tuples! Now you have the baseline knowledge to **[learn about loops](https://www.kaggle.com/colinmorris/loops-and-list-comprehensions)**, which is where lists and tuples get really interesting. "
   ]
  },
  {
   "cell_type": "markdown",
   "id": "25a917d9",
   "metadata": {
    "papermill": {
     "duration": 0.020563,
     "end_time": "2021-07-14T13:30:28.938759",
     "exception": false,
     "start_time": "2021-07-14T13:30:28.918196",
     "status": "completed"
    },
    "tags": []
   },
   "source": [
    "---\n",
    "\n",
    "\n",
    "\n",
    "\n",
    "*Have questions or comments? Visit the [Learn Discussion forum](https://www.kaggle.com/learn-forum/161283) to chat with other Learners.*"
   ]
  },
  {
   "cell_type": "code",
   "execution_count": null,
   "id": "77d0d823",
   "metadata": {
    "papermill": {
     "duration": 0.02481,
     "end_time": "2021-07-14T13:30:28.986158",
     "exception": false,
     "start_time": "2021-07-14T13:30:28.961348",
     "status": "completed"
    },
    "tags": []
   },
   "outputs": [],
   "source": []
  }
 ],
 "metadata": {
  "kernelspec": {
   "display_name": "Python 3",
   "language": "python",
   "name": "python3"
  },
  "language_info": {
   "codemirror_mode": {
    "name": "ipython",
    "version": 3
   },
   "file_extension": ".py",
   "mimetype": "text/x-python",
   "name": "python",
   "nbconvert_exporter": "python",
   "pygments_lexer": "ipython3",
   "version": "3.7.10"
  },
  "papermill": {
   "default_parameters": {},
   "duration": 9.688124,
   "end_time": "2021-07-14T13:30:30.497941",
   "environment_variables": {},
   "exception": null,
   "input_path": "__notebook__.ipynb",
   "output_path": "__notebook__.ipynb",
   "parameters": {},
   "start_time": "2021-07-14T13:30:20.809817",
   "version": "2.3.3"
  }
 },
 "nbformat": 4,
 "nbformat_minor": 5
}
