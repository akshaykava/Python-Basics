{
 "cells": [
  {
   "cell_type": "markdown",
   "id": "c65d0dee",
   "metadata": {
    "papermill": {
     "duration": 0.021734,
     "end_time": "2021-07-14T12:39:28.072989",
     "exception": false,
     "start_time": "2021-07-14T12:39:28.051255",
     "status": "completed"
    },
    "tags": []
   },
   "source": [
    "**This notebook is an exercise in the [Python](https://www.kaggle.com/learn/python) course.  You can reference the tutorial at [this link](https://www.kaggle.com/colinmorris/hello-python).**\n",
    "\n",
    "---\n"
   ]
  },
  {
   "cell_type": "markdown",
   "id": "7fad0c9b",
   "metadata": {
    "papermill": {
     "duration": 0.019619,
     "end_time": "2021-07-14T12:39:28.113583",
     "exception": false,
     "start_time": "2021-07-14T12:39:28.093964",
     "status": "completed"
    },
    "tags": []
   },
   "source": [
    "# Exercises"
   ]
  },
  {
   "cell_type": "markdown",
   "id": "aa7efd86",
   "metadata": {
    "papermill": {
     "duration": 0.019584,
     "end_time": "2021-07-14T12:39:28.153394",
     "exception": false,
     "start_time": "2021-07-14T12:39:28.133810",
     "status": "completed"
    },
    "tags": []
   },
   "source": [
    "Welcome to your first set of Python coding problems! \n",
    "\n",
    "If this is your first time using Kaggle Notebooks, welcome! \n",
    "\n",
    "Notebooks are composed of blocks (called \"cells\") of text and code. Each of these is editable, though you'll mainly be editing the code cells to answer some questions.\n",
    "\n",
    "To get started, try running the code cell below (by pressing the ► button, or clicking on the cell and pressing ctrl+enter on your keyboard)."
   ]
  },
  {
   "cell_type": "code",
   "execution_count": 1,
   "id": "9852d30c",
   "metadata": {
    "execution": {
     "iopub.execute_input": "2021-07-14T12:39:28.205340Z",
     "iopub.status.busy": "2021-07-14T12:39:28.204642Z",
     "iopub.status.idle": "2021-07-14T12:39:28.207717Z",
     "shell.execute_reply": "2021-07-14T12:39:28.208213Z"
    },
    "papermill": {
     "duration": 0.035333,
     "end_time": "2021-07-14T12:39:28.208580",
     "exception": false,
     "start_time": "2021-07-14T12:39:28.173247",
     "status": "completed"
    },
    "tags": []
   },
   "outputs": [
    {
     "name": "stdout",
     "output_type": "stream",
     "text": [
      "You've successfully run some Python code\n",
      "Congratulations!\n"
     ]
    }
   ],
   "source": [
    "print(\"You've successfully run some Python code\")\n",
    "print(\"Congratulations!\")"
   ]
  },
  {
   "cell_type": "code",
   "execution_count": null,
   "id": "81ed991c",
   "metadata": {
    "papermill": {
     "duration": 0.020006,
     "end_time": "2021-07-14T12:39:28.249594",
     "exception": false,
     "start_time": "2021-07-14T12:39:28.229588",
     "status": "completed"
    },
    "tags": []
   },
   "outputs": [],
   "source": []
  },
  {
   "cell_type": "code",
   "execution_count": null,
   "id": "85c13720",
   "metadata": {
    "papermill": {
     "duration": 0.01991,
     "end_time": "2021-07-14T12:39:28.289811",
     "exception": false,
     "start_time": "2021-07-14T12:39:28.269901",
     "status": "completed"
    },
    "tags": []
   },
   "outputs": [],
   "source": []
  },
  {
   "cell_type": "markdown",
   "id": "4ffa46d3",
   "metadata": {
    "papermill": {
     "duration": 0.020904,
     "end_time": "2021-07-14T12:39:28.331277",
     "exception": false,
     "start_time": "2021-07-14T12:39:28.310373",
     "status": "completed"
    },
    "tags": []
   },
   "source": [
    "Try adding another line of code in the cell above and re-running it. \n",
    "\n",
    "Now let's get a little fancier:  Add a new code cell by clicking on an existing code cell, hitting the escape key, and then hitting the `a` or `b` key.  The `a` key will add a cell above the current cell, and `b` adds a cell below.\n",
    "\n",
    "Great! Now you know how to use Notebooks.\n",
    "\n",
    "Each hands-on exercise starts by setting up our feedback and code checking mechanism. Run the code cell below to do that. Then you'll be ready to move on to question 0."
   ]
  },
  {
   "cell_type": "code",
   "execution_count": 2,
   "id": "d3107c35",
   "metadata": {
    "_kg_hide-input": true,
    "_kg_hide-output": true,
    "execution": {
     "iopub.execute_input": "2021-07-14T12:39:28.375019Z",
     "iopub.status.busy": "2021-07-14T12:39:28.374391Z",
     "iopub.status.idle": "2021-07-14T12:39:28.548842Z",
     "shell.execute_reply": "2021-07-14T12:39:28.549334Z"
    },
    "papermill": {
     "duration": 0.198016,
     "end_time": "2021-07-14T12:39:28.549524",
     "exception": false,
     "start_time": "2021-07-14T12:39:28.351508",
     "status": "completed"
    },
    "tags": []
   },
   "outputs": [
    {
     "name": "stdout",
     "output_type": "stream",
     "text": [
      "Setup complete! You're ready to start question 0.\n"
     ]
    }
   ],
   "source": [
    "from learntools.core import binder; binder.bind(globals())\n",
    "from learntools.python.ex1 import *\n",
    "print(\"Setup complete! You're ready to start question 0.\")"
   ]
  },
  {
   "cell_type": "markdown",
   "id": "edbe0ecc",
   "metadata": {
    "papermill": {
     "duration": 0.020262,
     "end_time": "2021-07-14T12:39:28.590627",
     "exception": false,
     "start_time": "2021-07-14T12:39:28.570365",
     "status": "completed"
    },
    "tags": []
   },
   "source": [
    "## 0.\n",
    "\n",
    "*This is a silly question intended as an introduction to the format we use for hands-on exercises throughout all Kaggle courses.*\n",
    "\n",
    "**What is your favorite color? **\n",
    "\n",
    "To complete this question, create a variable called `color` in the cell below with an appropriate value. The function call `q0.check()` (which we've already provided in the cell below) will check your answer."
   ]
  },
  {
   "cell_type": "code",
   "execution_count": 3,
   "id": "cd8ccd9f",
   "metadata": {
    "execution": {
     "iopub.execute_input": "2021-07-14T12:39:28.640729Z",
     "iopub.status.busy": "2021-07-14T12:39:28.639717Z",
     "iopub.status.idle": "2021-07-14T12:39:28.646565Z",
     "shell.execute_reply": "2021-07-14T12:39:28.646056Z"
    },
    "papermill": {
     "duration": 0.035317,
     "end_time": "2021-07-14T12:39:28.646704",
     "exception": false,
     "start_time": "2021-07-14T12:39:28.611387",
     "status": "completed"
    },
    "tags": []
   },
   "outputs": [
    {
     "data": {
      "application/javascript": [
       "parent.postMessage({\"jupyterEvent\": \"custom.exercise_interaction\", \"data\": {\"outcomeType\": 2, \"failureMessage\": \"\", \"interactionType\": 1, \"questionType\": 2, \"questionId\": \"0_ExerciseFormatTutorial\", \"learnToolsVersion\": \"0.3.4\", \"valueTowardsCompletion\": 0.0, \"exceptionClass\": \"\", \"trace\": \"\"}}, \"*\")"
      ],
      "text/plain": [
       "<IPython.core.display.Javascript object>"
      ]
     },
     "metadata": {},
     "output_type": "display_data"
    },
    {
     "data": {
      "text/markdown": [
       "<span style=\"color:#cc3333\">Incorrect</span>"
      ],
      "text/plain": [
       "Incorrect"
      ]
     },
     "metadata": {},
     "output_type": "display_data"
    }
   ],
   "source": [
    "# create a variable called color with an appropriate value on the line below\n",
    "# (Remember, strings in Python must be enclosed in 'single' or \"double\" quotes)\n",
    "____\n",
    "color = '0000'\n",
    "# Check your answer\n",
    "q0.check()"
   ]
  },
  {
   "cell_type": "markdown",
   "id": "1a9b87fb",
   "metadata": {
    "papermill": {
     "duration": 0.021572,
     "end_time": "2021-07-14T12:39:28.689853",
     "exception": false,
     "start_time": "2021-07-14T12:39:28.668281",
     "status": "completed"
    },
    "tags": []
   },
   "source": [
    "Didn't get the right answer? How do you not even know your own favorite color?!\n",
    "\n",
    "Delete the `#` in the line below to make one of the lines run. You can choose between getting a hint or the full answer by choosing which line to remove the `#` from. \n",
    "\n",
    "Removing the `#` is called uncommenting, because it changes that line from a \"comment\" which Python doesn't run to code, which Python does run."
   ]
  },
  {
   "cell_type": "code",
   "execution_count": 4,
   "id": "5045d026",
   "metadata": {
    "execution": {
     "iopub.execute_input": "2021-07-14T12:39:28.738287Z",
     "iopub.status.busy": "2021-07-14T12:39:28.737577Z",
     "iopub.status.idle": "2021-07-14T12:39:28.743282Z",
     "shell.execute_reply": "2021-07-14T12:39:28.743846Z"
    },
    "papermill": {
     "duration": 0.032474,
     "end_time": "2021-07-14T12:39:28.744022",
     "exception": false,
     "start_time": "2021-07-14T12:39:28.711548",
     "status": "completed"
    },
    "tags": []
   },
   "outputs": [
    {
     "data": {
      "application/javascript": [
       "parent.postMessage({\"jupyterEvent\": \"custom.exercise_interaction\", \"data\": {\"interactionType\": 2, \"questionType\": 2, \"questionId\": \"0_ExerciseFormatTutorial\", \"learnToolsVersion\": \"0.3.4\", \"valueTowardsCompletion\": 0.0, \"failureMessage\": \"\", \"exceptionClass\": \"\", \"trace\": \"\", \"outcomeType\": 4}}, \"*\")"
      ],
      "text/plain": [
       "<IPython.core.display.Javascript object>"
      ]
     },
     "metadata": {},
     "output_type": "display_data"
    },
    {
     "data": {
      "text/markdown": [
       "<span style=\"color:#3366cc\">Hint:</span> Your favorite color rhymes with *glue*."
      ],
      "text/plain": [
       "Hint: Your favorite color rhymes with *glue*."
      ]
     },
     "metadata": {},
     "output_type": "display_data"
    }
   ],
   "source": [
    "q0.hint()\n",
    "#q0.solution()"
   ]
  },
  {
   "cell_type": "markdown",
   "id": "b47802ec",
   "metadata": {
    "papermill": {
     "duration": 0.022427,
     "end_time": "2021-07-14T12:39:28.789255",
     "exception": false,
     "start_time": "2021-07-14T12:39:28.766828",
     "status": "completed"
    },
    "tags": []
   },
   "source": [
    "The upcoming questions work the same way. The only thing that will change are the question numbers. For the next question, you'll call `q1.check()`, `q1.hint()`, `q1.solution()`, for question 2, you'll call `q2.check()`, and so on."
   ]
  },
  {
   "cell_type": "markdown",
   "id": "801afb82",
   "metadata": {
    "papermill": {
     "duration": 0.027157,
     "end_time": "2021-07-14T12:39:28.839170",
     "exception": false,
     "start_time": "2021-07-14T12:39:28.812013",
     "status": "completed"
    },
    "tags": []
   },
   "source": [
    "<hr/>\n",
    "\n",
    "## 1.\n",
    "\n",
    "Complete the code below. In case it's helpful, here is the table of available arithmetic operations:\n",
    "\n",
    "\n",
    "\n",
    "| Operator     | Name           | Description                                            |\n",
    "|--------------|----------------|--------------------------------------------------------|\n",
    "| ``a + b``    | Addition       | Sum of ``a`` and ``b``                                 |\n",
    "| ``a - b``    | Subtraction    | Difference of ``a`` and ``b``                          |\n",
    "| ``a * b``    | Multiplication | Product of ``a`` and ``b``                             |\n",
    "| ``a / b``    | True division  | Quotient of ``a`` and ``b``                            |\n",
    "| ``a // b``   | Floor division | Quotient of ``a`` and ``b``, removing fractional parts |\n",
    "| ``a % b``    | Modulus        | Integer remainder after division of ``a`` by ``b``     |\n",
    "| ``a ** b``   | Exponentiation | ``a`` raised to the power of ``b``                     |\n",
    "| ``-a``       | Negation       | The negative of ``a``                                  |\n",
    "\n",
    "<span style=\"display:none\"></span>\n"
   ]
  },
  {
   "cell_type": "code",
   "execution_count": 5,
   "id": "452da58d",
   "metadata": {
    "execution": {
     "iopub.execute_input": "2021-07-14T12:39:28.910793Z",
     "iopub.status.busy": "2021-07-14T12:39:28.909663Z",
     "iopub.status.idle": "2021-07-14T12:39:28.915184Z",
     "shell.execute_reply": "2021-07-14T12:39:28.915734Z"
    },
    "papermill": {
     "duration": 0.048312,
     "end_time": "2021-07-14T12:39:28.915952",
     "exception": false,
     "start_time": "2021-07-14T12:39:28.867640",
     "status": "completed"
    },
    "tags": []
   },
   "outputs": [
    {
     "data": {
      "application/javascript": [
       "parent.postMessage({\"jupyterEvent\": \"custom.exercise_interaction\", \"data\": {\"outcomeType\": 1, \"valueTowardsCompletion\": 0.25, \"interactionType\": 1, \"questionType\": 1, \"questionId\": \"1_CircleArea\", \"learnToolsVersion\": \"0.3.4\", \"failureMessage\": \"\", \"exceptionClass\": \"\", \"trace\": \"\"}}, \"*\")"
      ],
      "text/plain": [
       "<IPython.core.display.Javascript object>"
      ]
     },
     "metadata": {},
     "output_type": "display_data"
    },
    {
     "data": {
      "text/markdown": [
       "<span style=\"color:#33cc33\">Correct</span>"
      ],
      "text/plain": [
       "Correct"
      ]
     },
     "metadata": {},
     "output_type": "display_data"
    }
   ],
   "source": [
    "pi = 3.14159 # approximate\n",
    "diameter = 3\n",
    "\n",
    "# Create a variable called 'radius' equal to half the diameter\n",
    "____\n",
    "radius = diameter/2\n",
    "\n",
    "# Create a variable called 'area', using the formula for the area of a circle: pi times the radius squared\n",
    "____\n",
    "area=pi*(radius*radius)\n",
    "\n",
    "# Check your answer\n",
    "q1.check()"
   ]
  },
  {
   "cell_type": "code",
   "execution_count": 6,
   "id": "ab5cc1c9",
   "metadata": {
    "execution": {
     "iopub.execute_input": "2021-07-14T12:39:28.974954Z",
     "iopub.status.busy": "2021-07-14T12:39:28.974289Z",
     "iopub.status.idle": "2021-07-14T12:39:28.980390Z",
     "shell.execute_reply": "2021-07-14T12:39:28.980897Z"
    },
    "papermill": {
     "duration": 0.036055,
     "end_time": "2021-07-14T12:39:28.981104",
     "exception": false,
     "start_time": "2021-07-14T12:39:28.945049",
     "status": "completed"
    },
    "tags": []
   },
   "outputs": [
    {
     "data": {
      "application/javascript": [
       "parent.postMessage({\"jupyterEvent\": \"custom.exercise_interaction\", \"data\": {\"interactionType\": 3, \"questionType\": 1, \"questionId\": \"1_CircleArea\", \"learnToolsVersion\": \"0.3.4\", \"valueTowardsCompletion\": 0.0, \"failureMessage\": \"\", \"exceptionClass\": \"\", \"trace\": \"\", \"outcomeType\": 4}}, \"*\")"
      ],
      "text/plain": [
       "<IPython.core.display.Javascript object>"
      ]
     },
     "metadata": {},
     "output_type": "display_data"
    },
    {
     "data": {
      "text/markdown": [
       "<span style=\"color:#33cc99\">Solution:</span> \n",
       "```python\n",
       "radius = diameter / 2\n",
       "area = pi * radius ** 2\n",
       "```"
      ],
      "text/plain": [
       "Solution: \n",
       "```python\n",
       "radius = diameter / 2\n",
       "area = pi * radius ** 2\n",
       "```"
      ]
     },
     "metadata": {},
     "output_type": "display_data"
    }
   ],
   "source": [
    "# Uncomment and run the lines below if you need help.\n",
    "#q1.hint()\n",
    "q1.solution()"
   ]
  },
  {
   "cell_type": "markdown",
   "id": "102cdbf6",
   "metadata": {
    "papermill": {
     "duration": 0.025161,
     "end_time": "2021-07-14T12:39:29.032918",
     "exception": false,
     "start_time": "2021-07-14T12:39:29.007757",
     "status": "completed"
    },
    "tags": []
   },
   "source": [
    "<hr/>\n",
    "## 2.\n",
    "\n",
    "Add code to the following cell to swap variables `a` and `b` (so that `a` refers to the object previously referred to by `b` and vice versa)."
   ]
  },
  {
   "cell_type": "code",
   "execution_count": 7,
   "id": "481ec4b7",
   "metadata": {
    "execution": {
     "iopub.execute_input": "2021-07-14T12:39:29.091697Z",
     "iopub.status.busy": "2021-07-14T12:39:29.091014Z",
     "iopub.status.idle": "2021-07-14T12:39:29.095802Z",
     "shell.execute_reply": "2021-07-14T12:39:29.096232Z"
    },
    "papermill": {
     "duration": 0.037144,
     "end_time": "2021-07-14T12:39:29.096421",
     "exception": false,
     "start_time": "2021-07-14T12:39:29.059277",
     "status": "completed"
    },
    "tags": []
   },
   "outputs": [
    {
     "data": {
      "application/javascript": [
       "parent.postMessage({\"jupyterEvent\": \"custom.exercise_interaction\", \"data\": {\"outcomeType\": 1, \"valueTowardsCompletion\": 0.25, \"interactionType\": 1, \"questionType\": 2, \"questionId\": \"2_VariableSwap\", \"learnToolsVersion\": \"0.3.4\", \"failureMessage\": \"\", \"exceptionClass\": \"\", \"trace\": \"\"}}, \"*\")"
      ],
      "text/plain": [
       "<IPython.core.display.Javascript object>"
      ]
     },
     "metadata": {},
     "output_type": "display_data"
    },
    {
     "data": {
      "text/markdown": [
       "<span style=\"color:#33cc33\">Correct:</span> \n",
       "\n",
       "The most straightforward solution is to use a third variable to temporarily store one of the old values. e.g.:\n",
       "\n",
       "    tmp = a\n",
       "    a = b\n",
       "    b = tmp\n",
       "\n",
       "If you've read lots of Python code, you might have seen the following trick to swap two variables in one line:\n",
       "\n",
       "    a, b = b, a\n",
       "\n",
       "We'll demystify this bit of Python magic later when we talk about *tuples*."
      ],
      "text/plain": [
       "Correct: \n",
       "\n",
       "The most straightforward solution is to use a third variable to temporarily store one of the old values. e.g.:\n",
       "\n",
       "    tmp = a\n",
       "    a = b\n",
       "    b = tmp\n",
       "\n",
       "If you've read lots of Python code, you might have seen the following trick to swap two variables in one line:\n",
       "\n",
       "    a, b = b, a\n",
       "\n",
       "We'll demystify this bit of Python magic later when we talk about *tuples*."
      ]
     },
     "metadata": {},
     "output_type": "display_data"
    }
   ],
   "source": [
    "########### Setup code - don't touch this part ######################\n",
    "# If you're curious, these are examples of lists. We'll talk about \n",
    "# them in depth a few lessons from now. For now, just know that they're\n",
    "# yet another type of Python object, like int or float.\n",
    "a = [1, 2, 3]\n",
    "b = [3, 2, 1]\n",
    "q2.store_original_ids()\n",
    "######################################################################\n",
    "\n",
    "# Your code goes here. Swap the values to which a and b refer.\n",
    "# If you get stuck, you can always uncomment one or both of the lines in\n",
    "# the next cell for a hint, or to peek at the solution.\n",
    "a,b=b,a\n",
    "######################################################################\n",
    "\n",
    "# Check your answer\n",
    "q2.check()"
   ]
  },
  {
   "cell_type": "code",
   "execution_count": 8,
   "id": "30f101b2",
   "metadata": {
    "execution": {
     "iopub.execute_input": "2021-07-14T12:39:29.154102Z",
     "iopub.status.busy": "2021-07-14T12:39:29.153482Z",
     "iopub.status.idle": "2021-07-14T12:39:29.156656Z",
     "shell.execute_reply": "2021-07-14T12:39:29.156056Z"
    },
    "papermill": {
     "duration": 0.033333,
     "end_time": "2021-07-14T12:39:29.156792",
     "exception": false,
     "start_time": "2021-07-14T12:39:29.123459",
     "status": "completed"
    },
    "tags": []
   },
   "outputs": [],
   "source": [
    "#q2.hint()"
   ]
  },
  {
   "cell_type": "code",
   "execution_count": 9,
   "id": "c2a5bd25",
   "metadata": {
    "execution": {
     "iopub.execute_input": "2021-07-14T12:39:29.213805Z",
     "iopub.status.busy": "2021-07-14T12:39:29.213146Z",
     "iopub.status.idle": "2021-07-14T12:39:29.215805Z",
     "shell.execute_reply": "2021-07-14T12:39:29.215241Z"
    },
    "papermill": {
     "duration": 0.032656,
     "end_time": "2021-07-14T12:39:29.215939",
     "exception": false,
     "start_time": "2021-07-14T12:39:29.183283",
     "status": "completed"
    },
    "tags": []
   },
   "outputs": [],
   "source": [
    "#q2.solution()"
   ]
  },
  {
   "cell_type": "markdown",
   "id": "592317b1",
   "metadata": {
    "papermill": {
     "duration": 0.026882,
     "end_time": "2021-07-14T12:39:29.269437",
     "exception": false,
     "start_time": "2021-07-14T12:39:29.242555",
     "status": "completed"
    },
    "tags": []
   },
   "source": [
    "<hr/>\n",
    "## 3.\n",
    "\n",
    "a) Add parentheses to the following expression so that it evaluates to 1."
   ]
  },
  {
   "cell_type": "code",
   "execution_count": 10,
   "id": "7775986f",
   "metadata": {
    "execution": {
     "iopub.execute_input": "2021-07-14T12:39:29.329329Z",
     "iopub.status.busy": "2021-07-14T12:39:29.328620Z",
     "iopub.status.idle": "2021-07-14T12:39:29.332404Z",
     "shell.execute_reply": "2021-07-14T12:39:29.331769Z"
    },
    "papermill": {
     "duration": 0.035627,
     "end_time": "2021-07-14T12:39:29.332556",
     "exception": false,
     "start_time": "2021-07-14T12:39:29.296929",
     "status": "completed"
    },
    "tags": []
   },
   "outputs": [
    {
     "data": {
      "text/plain": [
       "1"
      ]
     },
     "execution_count": 10,
     "metadata": {},
     "output_type": "execute_result"
    }
   ],
   "source": [
    "(5 - 3) // 2"
   ]
  },
  {
   "cell_type": "code",
   "execution_count": 11,
   "id": "7b752ac6",
   "metadata": {
    "execution": {
     "iopub.execute_input": "2021-07-14T12:39:29.391907Z",
     "iopub.status.busy": "2021-07-14T12:39:29.391211Z",
     "iopub.status.idle": "2021-07-14T12:39:29.394589Z",
     "shell.execute_reply": "2021-07-14T12:39:29.393902Z"
    },
    "papermill": {
     "duration": 0.034981,
     "end_time": "2021-07-14T12:39:29.394739",
     "exception": false,
     "start_time": "2021-07-14T12:39:29.359758",
     "status": "completed"
    },
    "tags": []
   },
   "outputs": [],
   "source": [
    "#q3.a.hint()"
   ]
  },
  {
   "cell_type": "code",
   "execution_count": 12,
   "id": "7c628483",
   "metadata": {
    "execution": {
     "iopub.execute_input": "2021-07-14T12:39:29.456477Z",
     "iopub.status.busy": "2021-07-14T12:39:29.455738Z",
     "iopub.status.idle": "2021-07-14T12:39:29.461817Z",
     "shell.execute_reply": "2021-07-14T12:39:29.461276Z"
    },
    "papermill": {
     "duration": 0.039563,
     "end_time": "2021-07-14T12:39:29.461952",
     "exception": false,
     "start_time": "2021-07-14T12:39:29.422389",
     "status": "completed"
    },
    "tags": []
   },
   "outputs": [
    {
     "data": {
      "application/javascript": [
       "parent.postMessage({\"jupyterEvent\": \"custom.exercise_interaction\", \"data\": {\"interactionType\": 3, \"questionType\": 4, \"questionId\": \"3.1_ArithmeticParensEasy\", \"learnToolsVersion\": \"0.3.4\", \"valueTowardsCompletion\": 0.0, \"failureMessage\": \"\", \"exceptionClass\": \"\", \"trace\": \"\", \"outcomeType\": 4}}, \"*\")"
      ],
      "text/plain": [
       "<IPython.core.display.Javascript object>"
      ]
     },
     "metadata": {},
     "output_type": "display_data"
    },
    {
     "data": {
      "text/markdown": [
       "<span style=\"color:#33cc99\">Solution:</span> \n",
       "```python\n",
       "(5 - 3) // 2\n",
       "```"
      ],
      "text/plain": [
       "Solution: \n",
       "```python\n",
       "(5 - 3) // 2\n",
       "```"
      ]
     },
     "metadata": {},
     "output_type": "display_data"
    }
   ],
   "source": [
    "# Check your answer (Run this code cell to receive credit!)\n",
    "q3.a.solution()"
   ]
  },
  {
   "cell_type": "markdown",
   "id": "983cf6ba",
   "metadata": {
    "papermill": {
     "duration": 0.027978,
     "end_time": "2021-07-14T12:39:29.518220",
     "exception": false,
     "start_time": "2021-07-14T12:39:29.490242",
     "status": "completed"
    },
    "tags": []
   },
   "source": [
    "<small>Questions, like this one, marked a spicy pepper are a bit harder.</small>\n",
    "\n",
    "b) <span title=\"A bit spicy\" style=\"color: darkgreen \">🌶️</span> Add parentheses to the following expression so that it evaluates to 0\n"
   ]
  },
  {
   "cell_type": "code",
   "execution_count": 13,
   "id": "16c23258",
   "metadata": {
    "execution": {
     "iopub.execute_input": "2021-07-14T12:39:29.580123Z",
     "iopub.status.busy": "2021-07-14T12:39:29.579428Z",
     "iopub.status.idle": "2021-07-14T12:39:29.585914Z",
     "shell.execute_reply": "2021-07-14T12:39:29.585261Z"
    },
    "papermill": {
     "duration": 0.039575,
     "end_time": "2021-07-14T12:39:29.586063",
     "exception": false,
     "start_time": "2021-07-14T12:39:29.546488",
     "status": "completed"
    },
    "tags": []
   },
   "outputs": [
    {
     "data": {
      "text/plain": [
       "0"
      ]
     },
     "execution_count": 13,
     "metadata": {},
     "output_type": "execute_result"
    }
   ],
   "source": [
    "(8 - 3) * (2 - (1 + 1))"
   ]
  },
  {
   "cell_type": "code",
   "execution_count": 14,
   "id": "eab09d6a",
   "metadata": {
    "execution": {
     "iopub.execute_input": "2021-07-14T12:39:29.657596Z",
     "iopub.status.busy": "2021-07-14T12:39:29.656911Z",
     "iopub.status.idle": "2021-07-14T12:39:29.663779Z",
     "shell.execute_reply": "2021-07-14T12:39:29.663251Z"
    },
    "papermill": {
     "duration": 0.044444,
     "end_time": "2021-07-14T12:39:29.663912",
     "exception": false,
     "start_time": "2021-07-14T12:39:29.619468",
     "status": "completed"
    },
    "tags": []
   },
   "outputs": [
    {
     "data": {
      "application/javascript": [
       "parent.postMessage({\"jupyterEvent\": \"custom.exercise_interaction\", \"data\": {\"interactionType\": 2, \"questionType\": 4, \"questionId\": \"3.2_ArithmeticParensHard\", \"learnToolsVersion\": \"0.3.4\", \"valueTowardsCompletion\": 0.0, \"failureMessage\": \"\", \"exceptionClass\": \"\", \"trace\": \"\", \"outcomeType\": 4}}, \"*\")"
      ],
      "text/plain": [
       "<IPython.core.display.Javascript object>"
      ]
     },
     "metadata": {},
     "output_type": "display_data"
    },
    {
     "data": {
      "text/markdown": [
       "<span style=\"color:#3366cc\">Hint:</span> You may need to use several pairs of parentheses."
      ],
      "text/plain": [
       "Hint: You may need to use several pairs of parentheses."
      ]
     },
     "metadata": {},
     "output_type": "display_data"
    }
   ],
   "source": [
    "q3.b.hint()"
   ]
  },
  {
   "cell_type": "code",
   "execution_count": 15,
   "id": "bd09af88",
   "metadata": {
    "execution": {
     "iopub.execute_input": "2021-07-14T12:39:29.735682Z",
     "iopub.status.busy": "2021-07-14T12:39:29.734934Z",
     "iopub.status.idle": "2021-07-14T12:39:29.741512Z",
     "shell.execute_reply": "2021-07-14T12:39:29.740967Z"
    },
    "papermill": {
     "duration": 0.042421,
     "end_time": "2021-07-14T12:39:29.741651",
     "exception": false,
     "start_time": "2021-07-14T12:39:29.699230",
     "status": "completed"
    },
    "tags": []
   },
   "outputs": [
    {
     "data": {
      "application/javascript": [
       "parent.postMessage({\"jupyterEvent\": \"custom.exercise_interaction\", \"data\": {\"interactionType\": 3, \"questionType\": 4, \"questionId\": \"3.2_ArithmeticParensHard\", \"learnToolsVersion\": \"0.3.4\", \"valueTowardsCompletion\": 0.0, \"failureMessage\": \"\", \"exceptionClass\": \"\", \"trace\": \"\", \"outcomeType\": 4}}, \"*\")"
      ],
      "text/plain": [
       "<IPython.core.display.Javascript object>"
      ]
     },
     "metadata": {},
     "output_type": "display_data"
    },
    {
     "data": {
      "text/markdown": [
       "<span style=\"color:#33cc99\">Solution:</span> `(8 - 3) * (2 - (1 + 1))` is one solution. There may be others."
      ],
      "text/plain": [
       "Solution: `(8 - 3) * (2 - (1 + 1))` is one solution. There may be others."
      ]
     },
     "metadata": {},
     "output_type": "display_data"
    }
   ],
   "source": [
    "# Check your answer (Run this code cell to receive credit!)\n",
    "q3.b.solution()"
   ]
  },
  {
   "cell_type": "markdown",
   "id": "f4451055",
   "metadata": {
    "papermill": {
     "duration": 0.03575,
     "end_time": "2021-07-14T12:39:29.809546",
     "exception": false,
     "start_time": "2021-07-14T12:39:29.773796",
     "status": "completed"
    },
    "tags": []
   },
   "source": [
    "<hr/>\n",
    "## 4. \n",
    "Alice, Bob and Carol have agreed to pool their Halloween candy and split it evenly among themselves.\n",
    "For the sake of their friendship, any candies left over will be smashed. For example, if they collectively\n",
    "bring home 91 candies, they'll take 30 each and smash 1.\n",
    "\n",
    "Write an arithmetic expression below to calculate how many candies they must smash for a given haul."
   ]
  },
  {
   "cell_type": "code",
   "execution_count": 16,
   "id": "ed2a2c90",
   "metadata": {
    "execution": {
     "iopub.execute_input": "2021-07-14T12:39:29.881816Z",
     "iopub.status.busy": "2021-07-14T12:39:29.880997Z",
     "iopub.status.idle": "2021-07-14T12:39:29.888153Z",
     "shell.execute_reply": "2021-07-14T12:39:29.887180Z"
    },
    "papermill": {
     "duration": 0.047159,
     "end_time": "2021-07-14T12:39:29.888371",
     "exception": false,
     "start_time": "2021-07-14T12:39:29.841212",
     "status": "completed"
    },
    "tags": []
   },
   "outputs": [
    {
     "data": {
      "application/javascript": [
       "parent.postMessage({\"jupyterEvent\": \"custom.exercise_interaction\", \"data\": {\"outcomeType\": 1, \"valueTowardsCompletion\": 0.25, \"interactionType\": 1, \"questionType\": 1, \"questionId\": \"4_CandySplitting\", \"learnToolsVersion\": \"0.3.4\", \"failureMessage\": \"\", \"exceptionClass\": \"\", \"trace\": \"\"}}, \"*\")"
      ],
      "text/plain": [
       "<IPython.core.display.Javascript object>"
      ]
     },
     "metadata": {},
     "output_type": "display_data"
    },
    {
     "data": {
      "text/markdown": [
       "<span style=\"color:#33cc33\">Correct</span>"
      ],
      "text/plain": [
       "Correct"
      ]
     },
     "metadata": {},
     "output_type": "display_data"
    }
   ],
   "source": [
    "# Variables representing the number of candies collected by alice, bob, and carol\n",
    "alice_candies = 121\n",
    "bob_candies = 77\n",
    "carol_candies = 109\n",
    "\n",
    "# Your code goes here! Replace the right-hand side of this assignment with an expression\n",
    "# involving alice_candies, bob_candies, and carol_candies\n",
    "to_smash = (alice_candies + bob_candies + carol_candies)%3\n",
    "\n",
    "# Check your answer\n",
    "q4.check()"
   ]
  },
  {
   "cell_type": "code",
   "execution_count": 17,
   "id": "3c228b4a",
   "metadata": {
    "execution": {
     "iopub.execute_input": "2021-07-14T12:39:29.966693Z",
     "iopub.status.busy": "2021-07-14T12:39:29.965678Z",
     "iopub.status.idle": "2021-07-14T12:39:29.980061Z",
     "shell.execute_reply": "2021-07-14T12:39:29.979159Z"
    },
    "papermill": {
     "duration": 0.049981,
     "end_time": "2021-07-14T12:39:29.980251",
     "exception": false,
     "start_time": "2021-07-14T12:39:29.930270",
     "status": "completed"
    },
    "tags": []
   },
   "outputs": [
    {
     "data": {
      "application/javascript": [
       "parent.postMessage({\"jupyterEvent\": \"custom.exercise_interaction\", \"data\": {\"interactionType\": 2, \"questionType\": 1, \"questionId\": \"4_CandySplitting\", \"learnToolsVersion\": \"0.3.4\", \"valueTowardsCompletion\": 0.0, \"failureMessage\": \"\", \"exceptionClass\": \"\", \"trace\": \"\", \"outcomeType\": 4}}, \"*\")"
      ],
      "text/plain": [
       "<IPython.core.display.Javascript object>"
      ]
     },
     "metadata": {},
     "output_type": "display_data"
    },
    {
     "data": {
      "text/markdown": [
       "<span style=\"color:#3366cc\">Hint 1:</span> You'll probably want to use the modulo operator, `%`.\n",
       "(For another hint, call `.hint(2)`)"
      ],
      "text/plain": [
       "Hint 1: You'll probably want to use the modulo operator, `%`.\n",
       "(For another hint, call `.hint(2)`)"
      ]
     },
     "metadata": {},
     "output_type": "display_data"
    },
    {
     "data": {
      "application/javascript": [
       "parent.postMessage({\"jupyterEvent\": \"custom.exercise_interaction\", \"data\": {\"interactionType\": 3, \"questionType\": 1, \"questionId\": \"4_CandySplitting\", \"learnToolsVersion\": \"0.3.4\", \"valueTowardsCompletion\": 0.0, \"failureMessage\": \"\", \"exceptionClass\": \"\", \"trace\": \"\", \"outcomeType\": 4}}, \"*\")"
      ],
      "text/plain": [
       "<IPython.core.display.Javascript object>"
      ]
     },
     "metadata": {},
     "output_type": "display_data"
    },
    {
     "data": {
      "text/markdown": [
       "<span style=\"color:#33cc99\">Solution:</span> \n",
       "```python\n",
       "(alice_candies + bob_candies + carol_candies) % 3\n",
       "```"
      ],
      "text/plain": [
       "Solution: \n",
       "```python\n",
       "(alice_candies + bob_candies + carol_candies) % 3\n",
       "```"
      ]
     },
     "metadata": {},
     "output_type": "display_data"
    }
   ],
   "source": [
    "q4.hint()\n",
    "q4.solution()"
   ]
  },
  {
   "cell_type": "markdown",
   "id": "26fe4b64",
   "metadata": {
    "papermill": {
     "duration": 0.034248,
     "end_time": "2021-07-14T12:39:30.055789",
     "exception": false,
     "start_time": "2021-07-14T12:39:30.021541",
     "status": "completed"
    },
    "tags": []
   },
   "source": [
    "# Keep Going\n",
    "\n",
    "Next up, you'll **[learn to write new functions and understand functions others write](https://www.kaggle.com/colinmorris/functions-and-getting-help)**. This will make you at least 10 times more productive as a Python programmer. "
   ]
  },
  {
   "cell_type": "markdown",
   "id": "524ad69c",
   "metadata": {
    "papermill": {
     "duration": 0.034336,
     "end_time": "2021-07-14T12:39:30.125079",
     "exception": false,
     "start_time": "2021-07-14T12:39:30.090743",
     "status": "completed"
    },
    "tags": []
   },
   "source": [
    "---\n",
    "\n",
    "\n",
    "\n",
    "\n",
    "*Have questions or comments? Visit the [Learn Discussion forum](https://www.kaggle.com/learn-forum/161283) to chat with other Learners.*"
   ]
  }
 ],
 "metadata": {
  "kernelspec": {
   "display_name": "Python 3",
   "language": "python",
   "name": "python3"
  },
  "language_info": {
   "codemirror_mode": {
    "name": "ipython",
    "version": 3
   },
   "file_extension": ".py",
   "mimetype": "text/x-python",
   "name": "python",
   "nbconvert_exporter": "python",
   "pygments_lexer": "ipython3",
   "version": "3.7.10"
  },
  "papermill": {
   "default_parameters": {},
   "duration": 10.750878,
   "end_time": "2021-07-14T12:39:30.870545",
   "environment_variables": {},
   "exception": null,
   "input_path": "__notebook__.ipynb",
   "output_path": "__notebook__.ipynb",
   "parameters": {},
   "start_time": "2021-07-14T12:39:20.119667",
   "version": "2.3.3"
  }
 },
 "nbformat": 4,
 "nbformat_minor": 5
}
